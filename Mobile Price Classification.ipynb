{
 "cells": [
  {
   "cell_type": "code",
   "execution_count": 1,
   "id": "32120543",
   "metadata": {},
   "outputs": [],
   "source": [
    "import findspark\n",
    "findspark.init()"
   ]
  },
  {
   "cell_type": "code",
   "execution_count": 2,
   "id": "e2b00ddc",
   "metadata": {},
   "outputs": [],
   "source": [
    "from pyspark.sql import SparkSession\n",
    "from pyspark.ml.stat import Correlation\n",
    "from pyspark.ml.feature import VectorAssembler, StringIndexer, StandardScaler, Normalizer\n",
    "from pyspark.sql import functions as F\n",
    "from pyspark.ml.classification import NaiveBayes, RandomForestClassifier, DecisionTreeClassifier\n",
    "from pyspark.ml import Pipeline\n",
    "from pyspark.ml.evaluation import MulticlassClassificationEvaluator\n",
    "from pyspark.ml.clustering import KMeans\n",
    "from sklearn.metrics import confusion_matrix\n",
    "import pandas as pd\n",
    "import matplotlib.pyplot as plt\n",
    "import warnings\n",
    "warnings.filterwarnings('ignore')"
   ]
  },
  {
   "cell_type": "code",
   "execution_count": 3,
   "id": "2d4a68ec",
   "metadata": {},
   "outputs": [],
   "source": [
    "# Starting a Spark session\n",
    "from pyspark.sql import SparkSession\n",
    "spark = SparkSession.builder.appName('Mobile-Price-Classification').getOrCreate()"
   ]
  },
  {
   "cell_type": "code",
   "execution_count": 4,
   "id": "65a5f094",
   "metadata": {},
   "outputs": [],
   "source": [
    "df = spark.read.format(\"csv\")\\\n",
    "    .option(\"inferSchema\", \"true\")\\\n",
    "    .option(\"header\", \"true\")\\\n",
    "    .option(\"sep\", \",\")\\\n",
    "    .load('Mobile_Price_Classification.csv')"
   ]
  },
  {
   "cell_type": "code",
   "execution_count": 5,
   "id": "3f36bd51",
   "metadata": {},
   "outputs": [
    {
     "name": "stdout",
     "output_type": "stream",
     "text": [
      "root\n",
      " |-- battery_power: integer (nullable = true)\n",
      " |-- blue: integer (nullable = true)\n",
      " |-- clock_speed: double (nullable = true)\n",
      " |-- dual_sim: integer (nullable = true)\n",
      " |-- fc: integer (nullable = true)\n",
      " |-- four_g: integer (nullable = true)\n",
      " |-- int_memory: integer (nullable = true)\n",
      " |-- m_dep: double (nullable = true)\n",
      " |-- mobile_wt: integer (nullable = true)\n",
      " |-- n_cores: integer (nullable = true)\n",
      " |-- pc: integer (nullable = true)\n",
      " |-- px_height: integer (nullable = true)\n",
      " |-- px_width: integer (nullable = true)\n",
      " |-- ram: integer (nullable = true)\n",
      " |-- sc_h: integer (nullable = true)\n",
      " |-- sc_w: integer (nullable = true)\n",
      " |-- talk_time: integer (nullable = true)\n",
      " |-- three_g: integer (nullable = true)\n",
      " |-- touch_screen: integer (nullable = true)\n",
      " |-- wifi: integer (nullable = true)\n",
      " |-- price_range: integer (nullable = true)\n",
      "\n"
     ]
    }
   ],
   "source": [
    "df.createOrReplaceTempView(\"mobile_price\")\n",
    "#The createOrReplaceTempView function registers a DataFrame as a SQL temporary view.\n",
    "#This allows you to run SQL queries against the DataFrame using Spark SQL\n",
    "df.printSchema()"
   ]
  },
  {
   "cell_type": "code",
   "execution_count": 6,
   "id": "9c6b0c55",
   "metadata": {},
   "outputs": [
    {
     "name": "stdout",
     "output_type": "stream",
     "text": [
      "+-------------+----+-----------+--------+---+------+----------+-----+---------+-------+---+---------+--------+----+----+----+---------+-------+------------+----+-----------+\n",
      "|battery_power|blue|clock_speed|dual_sim| fc|four_g|int_memory|m_dep|mobile_wt|n_cores| pc|px_height|px_width| ram|sc_h|sc_w|talk_time|three_g|touch_screen|wifi|price_range|\n",
      "+-------------+----+-----------+--------+---+------+----------+-----+---------+-------+---+---------+--------+----+----+----+---------+-------+------------+----+-----------+\n",
      "|          842|   0|        2.2|       0|  1|     0|         7|  0.6|      188|      2|  2|       20|     756|2549|   9|   7|       19|      0|           0|   1|          1|\n",
      "|         1021|   1|        0.5|       1|  0|     1|        53|  0.7|      136|      3|  6|      905|    1988|2631|  17|   3|        7|      1|           1|   0|          2|\n",
      "+-------------+----+-----------+--------+---+------+----------+-----+---------+-------+---+---------+--------+----+----+----+---------+-------+------------+----+-----------+\n",
      "only showing top 2 rows\n",
      "\n"
     ]
    }
   ],
   "source": [
    "df.show(2)"
   ]
  },
  {
   "cell_type": "code",
   "execution_count": 7,
   "id": "2d01b58a",
   "metadata": {},
   "outputs": [
    {
     "name": "stdout",
     "output_type": "stream",
     "text": [
      "+-----------+-----+\n",
      "|price_range|count|\n",
      "+-----------+-----+\n",
      "|          1|  500|\n",
      "|          3|  500|\n",
      "|          2|  500|\n",
      "|          0|  500|\n",
      "+-----------+-----+\n",
      "\n"
     ]
    }
   ],
   "source": [
    "#proportion of each price range in dataset\n",
    "df.groupBy(\"price_range\").count().show()"
   ]
  },
  {
   "cell_type": "code",
   "execution_count": 8,
   "id": "763d6b3a",
   "metadata": {},
   "outputs": [
    {
     "name": "stdout",
     "output_type": "stream",
     "text": [
      "+-----------+------------------+\n",
      "|price_range|avg(battery_power)|\n",
      "+-----------+------------------+\n",
      "|          0|          1116.902|\n",
      "|          1|          1228.868|\n",
      "|          2|           1228.32|\n",
      "|          3|          1379.984|\n",
      "+-----------+------------------+\n",
      "\n"
     ]
    }
   ],
   "source": [
    "#avarge Battery for each price range \n",
    "df.groupBy(\"price_range\").avg(\"battery_power\").orderBy('price_range').show()\n"
   ]
  },
  {
   "cell_type": "code",
   "execution_count": 9,
   "id": "a005534c",
   "metadata": {},
   "outputs": [
    {
     "name": "stdout",
     "output_type": "stream",
     "text": [
      "+-----------+--------+\n",
      "|price_range|avg(ram)|\n",
      "+-----------+--------+\n",
      "|          0| 785.314|\n",
      "|          1| 1679.49|\n",
      "|          2|2582.816|\n",
      "|          3|3449.232|\n",
      "+-----------+--------+\n",
      "\n"
     ]
    }
   ],
   "source": [
    "#averge raw for each price range\n",
    "df.groupBy(\"price_range\").avg(\"ram\").orderBy('price_range').show()"
   ]
  },
  {
   "cell_type": "code",
   "execution_count": 10,
   "id": "d947ca0c",
   "metadata": {},
   "outputs": [
    {
     "name": "stdout",
     "output_type": "stream",
     "text": [
      "+-------+------------------+\n",
      "|n_cores|  sum(clock_speed)|\n",
      "+-------+------------------+\n",
      "|      1|384.00000000000017|\n",
      "|      2|             359.0|\n",
      "|      3|384.00000000000017|\n",
      "|      4|             423.4|\n",
      "|      5|350.00000000000006|\n",
      "|      6| 352.4000000000001|\n",
      "|      7| 404.2999999999999|\n",
      "|      8| 387.3999999999997|\n",
      "+-------+------------------+\n",
      "\n"
     ]
    }
   ],
   "source": [
    "df.groupBy(\"n_cores\").sum(\"clock_speed\").orderBy('n_cores').show()"
   ]
  },
  {
   "cell_type": "code",
   "execution_count": 11,
   "id": "22b92b34",
   "metadata": {},
   "outputs": [
    {
     "name": "stdout",
     "output_type": "stream",
     "text": [
      "+-----------+-------+\n",
      "|price_range|avg(pc)|\n",
      "+-----------+-------+\n",
      "|          0|  9.574|\n",
      "|          1|  9.924|\n",
      "|          2| 10.018|\n",
      "|          3|  10.15|\n",
      "+-----------+-------+\n",
      "\n"
     ]
    }
   ],
   "source": [
    "#average megapixel for primary camara by price range\n",
    "df.groupBy(\"price_range\").avg(\"pc\").orderBy('price_range').show()"
   ]
  },
  {
   "cell_type": "code",
   "execution_count": 12,
   "id": "e6156657",
   "metadata": {},
   "outputs": [
    {
     "name": "stdout",
     "output_type": "stream",
     "text": [
      "+-----------+---------------+\n",
      "|price_range|avg(int_memory)|\n",
      "+-----------+---------------+\n",
      "|          0|         31.174|\n",
      "|          1|         32.116|\n",
      "|          2|          30.92|\n",
      "|          3|         33.976|\n",
      "+-----------+---------------+\n",
      "\n"
     ]
    }
   ],
   "source": [
    "#average internal memory for each price range\n",
    "df.groupBy(\"price_range\").avg(\"int_memory\").orderBy('price_range').show()"
   ]
  },
  {
   "cell_type": "markdown",
   "id": "d8bcba3e",
   "metadata": {},
   "source": [
    "# correlation matrix between independent variable"
   ]
  },
  {
   "cell_type": "code",
   "execution_count": 13,
   "id": "7868e85c",
   "metadata": {
    "scrolled": true
   },
   "outputs": [
    {
     "data": {
      "image/png": "[encoded data removed]",
      "text/plain": [
       "<Figure size 864x720 with 2 Axes>"
      ]
     },
     "metadata": {
      "needs_background": "light"
     },
     "output_type": "display_data"
    }
   ],
   "source": [
    "import seaborn as sns\n",
    "vector_col = \"corr_features\"\n",
    "columns = ['battery_power','clock_speed','fc','int_memory','m_dep','mobile_wt','n_cores','px_height','px_width','ram','sc_h'\n",
    "           ,'sc_w','talk_time']\n",
    "assembler = VectorAssembler(inputCols= columns, outputCol = vector_col)\n",
    "graph_vector = assembler.transform(df).select(vector_col)\n",
    "matrix = Correlation.corr(graph_vector,vector_col).collect()[0][0]\n",
    "corrmatrix = matrix.toArray().tolist()\n",
    "cf = spark.createDataFrame(corrmatrix, columns)\n",
    "corr_df = cf.toPandas()\n",
    "plt.figure(figsize=(12, 10))\n",
    "sns.heatmap(corr_df, annot=True, cmap='coolwarm', xticklabels=columns, yticklabels=columns, vmin=-1, vmax=1)\n",
    "plt.title('Correlation Matrix')\n",
    "plt.show()"
   ]
  },
  {
   "cell_type": "markdown",
   "id": "a9ed4b0d",
   "metadata": {},
   "source": [
    "# feature engineering"
   ]
  },
  {
   "cell_type": "code",
   "execution_count": 14,
   "id": "953affe7",
   "metadata": {},
   "outputs": [
    {
     "name": "stdout",
     "output_type": "stream",
     "text": [
      "battery_power   0\n",
      "blue            0\n",
      "clock_speed     0\n",
      "dual_sim        0\n",
      "fc              0\n",
      "four_g          0\n",
      "int_memory      0\n",
      "m_dep           0\n",
      "mobile_wt       0\n",
      "n_cores         0\n",
      "pc              0\n",
      "px_height       0\n",
      "px_width        0\n",
      "ram             0\n",
      "sc_h            0\n",
      "sc_w            0\n",
      "talk_time       0\n",
      "three_g         0\n",
      "touch_screen    0\n",
      "wifi            0\n",
      "price_range     0\n"
     ]
    }
   ],
   "source": [
    "# missing value\n",
    "for col in df.columns:\n",
    "    print(col.ljust(15), df.filter(df[col].isNull()).count())"
   ]
  },
  {
   "cell_type": "markdown",
   "id": "e60b281b",
   "metadata": {},
   "source": [
    "since there is high correlation between (px_height, px_width) and (sc_h, sc_w), we don't be using those columns driectiy we will calculating pixel screan resolution and  screan resolution by\n",
    "pixel screan resolution =  px_height * px_width\n",
    "screan resolution = sc_h * sc_w"
   ]
  },
  {
   "cell_type": "code",
   "execution_count": 15,
   "id": "b381d8fd",
   "metadata": {},
   "outputs": [],
   "source": [
    "df = df.withColumn('sc_area',F.col('sc_h')*F.col('sc_w')).withColumn('px_area',F.col('px_height')*F.col('px_width'))"
   ]
  },
  {
   "cell_type": "code",
   "execution_count": 16,
   "id": "f14cf092",
   "metadata": {},
   "outputs": [],
   "source": [
    "# COMBINING four_g AND three_g INTO ONE COLUMN\n",
    "df = df.withColumn('network',F.when(F.col('four_g')==1 , '4G').when(F.col('three_g')==1 , '3G').otherwise('2G'))\n"
   ]
  },
  {
   "cell_type": "code",
   "execution_count": 17,
   "id": "6225ceb5",
   "metadata": {},
   "outputs": [],
   "source": [
    "#DROPPING COLUMNS\n",
    "df = df.drop('four_g', 'three_g', 'sc_w', 'sc_h', 'px_height', 'px_width')"
   ]
  },
  {
   "cell_type": "code",
   "execution_count": 18,
   "id": "151f595a",
   "metadata": {},
   "outputs": [
    {
     "name": "stdout",
     "output_type": "stream",
     "text": [
      "+-------------+----+-----------+--------+---+----------+-----+---------+-------+---+----+---------+------------+----+-----------+-------+-------+-------+\n",
      "|battery_power|blue|clock_speed|dual_sim| fc|int_memory|m_dep|mobile_wt|n_cores| pc| ram|talk_time|touch_screen|wifi|price_range|sc_area|px_area|network|\n",
      "+-------------+----+-----------+--------+---+----------+-----+---------+-------+---+----+---------+------------+----+-----------+-------+-------+-------+\n",
      "|          842|   0|        2.2|       0|  1|         7|  0.6|      188|      2|  2|2549|       19|           0|   1|          1|     63|  15120|     2G|\n",
      "|         1021|   1|        0.5|       1|  0|        53|  0.7|      136|      3|  6|2631|        7|           1|   0|          2|     51|1799140|     4G|\n",
      "|          563|   1|        0.5|       1|  2|        41|  0.9|      145|      5|  6|2603|        9|           1|   0|          2|     22|2167308|     4G|\n",
      "|          615|   1|        2.5|       0|  0|        10|  0.8|      131|      6|  9|2769|       11|           0|   0|          2|    128|2171776|     3G|\n",
      "|         1821|   1|        1.2|       0| 13|        44|  0.6|      141|      2| 14|1411|       15|           1|   0|          1|     16|1464096|     4G|\n",
      "|         1859|   0|        0.5|       1|  3|        22|  0.7|      164|      1|  7|1067|       10|           0|   0|          1|     17|1660616|     3G|\n",
      "|         1821|   0|        1.7|       0|  4|        10|  0.8|      139|      8| 10|3220|       18|           0|   1|          3|    104| 387858|     4G|\n",
      "|         1954|   0|        0.5|       1|  0|        24|  0.8|      187|      4|  0| 700|        5|           1|   1|          0|     48| 588288|     3G|\n",
      "|         1445|   1|        0.5|       0|  0|        53|  0.7|      174|      7| 14|1099|       20|           0|   0|          0|     17| 322696|     3G|\n",
      "|          509|   1|        0.6|       1|  2|         9|  0.1|       93|      5| 15| 513|       12|           0|   0|          0|    190|1391688|     4G|\n",
      "|          769|   1|        2.9|       1|  0|         9|  0.1|      182|      5|  1|3946|        7|           0|   0|          3|     10| 216752|     2G|\n",
      "|         1520|   1|        2.2|       0|  5|        33|  0.5|      177|      8| 18|3826|       13|           1|   1|          3|    126| 151755|     4G|\n",
      "|         1815|   0|        2.8|       0|  2|        33|  0.6|      159|      4| 17|1482|        2|           0|   0|          1|      0| 454036|     3G|\n",
      "|          803|   1|        2.1|       0|  7|        17|  1.0|      198|      4| 11|2680|        4|           0|   1|          2|      7| 495360|     3G|\n",
      "|         1866|   0|        0.5|       0| 13|        52|  0.7|      185|      1| 17| 373|        3|           0|   1|          0|    126| 200428|     4G|\n",
      "|          775|   0|        1.0|       0|  3|        46|  0.7|      159|      2| 16| 568|       11|           1|   1|          0|    255|1606768|     3G|\n",
      "|          838|   0|        0.5|       0|  1|        13|  0.1|      196|      8|  4|3554|       19|           0|   1|          3|     90|1820400|     4G|\n",
      "|          595|   0|        0.9|       1|  7|        23|  0.1|      121|      3| 17|3752|       18|           1|   0|          3|     20| 357210|     4G|\n",
      "|         1131|   1|        0.5|       1| 11|        49|  0.6|      101|      5| 18|1835|       16|           1|   0|          1|    247| 577724|     3G|\n",
      "|          682|   1|        0.5|       0|  4|        19|  1.0|      121|      4| 11|2337|       18|           1|   1|          1|     11| 959728|     2G|\n",
      "+-------------+----+-----------+--------+---+----------+-----+---------+-------+---+----+---------+------------+----+-----------+-------+-------+-------+\n",
      "only showing top 20 rows\n",
      "\n"
     ]
    }
   ],
   "source": [
    "df.show()"
   ]
  },
  {
   "cell_type": "code",
   "execution_count": 19,
   "id": "de08aa02",
   "metadata": {},
   "outputs": [],
   "source": [
    "# Splitting data into training and validation sets\n",
    "train_df, valid_df = df.randomSplit([0.7,0.3])"
   ]
  },
  {
   "cell_type": "code",
   "execution_count": 20,
   "id": "d3b5c454",
   "metadata": {},
   "outputs": [
    {
     "name": "stdout",
     "output_type": "stream",
     "text": [
      "+-------------+----+-----------+--------+---+----------+-----+---------+-------+---+----+---------+------------+----+-----------+-------+-------+-------+-------------+\n",
      "|battery_power|blue|clock_speed|dual_sim| fc|int_memory|m_dep|mobile_wt|n_cores| pc| ram|talk_time|touch_screen|wifi|price_range|sc_area|px_area|network|network_index|\n",
      "+-------------+----+-----------+--------+---+----------+-----+---------+-------+---+----+---------+------------+----+-----------+-------+-------+-------+-------------+\n",
      "|          501|   1|        0.5|       1| 14|        22|  0.5|      174|      6| 20|3077|       17|           0|   0|          2|     51| 391004|     2G|          2.0|\n",
      "|          502|   0|        0.8|       0|  7|        52|  1.0|       82|      6|  8|2666|       20|           1|   0|          2|     20| 325679|     3G|          1.0|\n",
      "|          502|   0|        1.5|       1|  7|        37|  0.2|      199|      2| 12|1649|       14|           1|   0|          1|      6|1276050|     2G|          2.0|\n",
      "|          503|   0|        2.5|       0|  3|        57|  0.6|      185|      6| 11| 305|       16|           0|   1|          0|     88|1004398|     2G|          2.0|\n",
      "|          503|   1|        1.8|       1|  1|        13|  0.7|      131|      1|  4|3117|        9|           0|   1|          3|    114|2523560|     4G|          0.0|\n",
      "+-------------+----+-----------+--------+---+----------+-----+---------+-------+---+----+---------+------------+----+-----------+-------+-------+-------+-------------+\n",
      "only showing top 5 rows\n",
      "\n"
     ]
    }
   ],
   "source": [
    "# Converting Sex and Embarked columns to numeric index\n",
    "network_indexer = StringIndexer(inputCols=['network'],outputCols=['network_index'])\n",
    "indexer_model = network_indexer.fit(train_df)\n",
    "train_1 = indexer_model.transform(train_df) # Transforming and dropping original columns\n",
    "train_1.show(5)"
   ]
  },
  {
   "cell_type": "markdown",
   "id": "3eac50c6",
   "metadata": {},
   "source": [
    "# Decision Tree Classifier"
   ]
  },
  {
   "cell_type": "code",
   "execution_count": 21,
   "id": "86ef53cb",
   "metadata": {},
   "outputs": [],
   "source": [
    "# convert stringIndexer to numerical data\n",
    "#network_indexer = StringIndexer(inputCols=['network'],outputCols='network_index', handleInvalid='keep')\n",
    "\n",
    "# vecter assembler is used to create a vector of input features\n",
    "assembler = VectorAssembler(inputCols=['battery_power','blue','clock_speed','dual_sim','fc','int_memory','m_dep','mobile_wt',\n",
    "                                       'n_cores','pc','px_area','ram','sc_area','touch_screen','wifi','network_index'],\n",
    "                            outputCol='features')\n",
    "\n",
    "# create an object of Decision Tree Classifier\n",
    "model = DecisionTreeClassifier(labelCol='price_range', maxBins=5000)\n",
    "\n",
    "# pipeline is used to pass the data through indexer and assembler simultaneously also help to pre-process the test data\n",
    "pipe = Pipeline(stages=[network_indexer, assembler, model])\n",
    "fit_model = pipe.fit(train_df)\n",
    "results = fit_model.transform(valid_df)"
   ]
  },
  {
   "cell_type": "code",
   "execution_count": 22,
   "id": "b1bfd7ef",
   "metadata": {},
   "outputs": [
    {
     "name": "stdout",
     "output_type": "stream",
     "text": [
      "+-----------+----------+\n",
      "|price_range|prediction|\n",
      "+-----------+----------+\n",
      "|          1|       1.0|\n",
      "|          1|       1.0|\n",
      "|          0|       0.0|\n",
      "|          2|       2.0|\n",
      "|          0|       0.0|\n",
      "|          2|       2.0|\n",
      "|          0|       0.0|\n",
      "|          0|       0.0|\n",
      "|          3|       3.0|\n",
      "|          1|       1.0|\n",
      "|          1|       2.0|\n",
      "|          0|       1.0|\n",
      "|          2|       2.0|\n",
      "|          0|       0.0|\n",
      "|          1|       1.0|\n",
      "|          1|       1.0|\n",
      "|          3|       3.0|\n",
      "|          0|       1.0|\n",
      "|          0|       0.0|\n",
      "|          1|       1.0|\n",
      "+-----------+----------+\n",
      "only showing top 20 rows\n",
      "\n"
     ]
    }
   ],
   "source": [
    "results.select(['price_range','prediction']).show()"
   ]
  },
  {
   "cell_type": "code",
   "execution_count": 23,
   "id": "2597243e",
   "metadata": {},
   "outputs": [
    {
     "name": "stdout",
     "output_type": "stream",
     "text": [
      "+----------+-----+\n",
      "|prediction|count|\n",
      "+----------+-----+\n",
      "|       0.0|  149|\n",
      "|       1.0|  149|\n",
      "|       2.0|  150|\n",
      "|       3.0|  128|\n",
      "+----------+-----+\n",
      "\n"
     ]
    }
   ],
   "source": [
    "results.groupBy('prediction').count().sort('prediction').show()"
   ]
  },
  {
   "cell_type": "code",
   "execution_count": 24,
   "id": "002b28fe",
   "metadata": {},
   "outputs": [
    {
     "name": "stdout",
     "output_type": "stream",
     "text": [
      "+-----------+-----+\n",
      "|price_range|count|\n",
      "+-----------+-----+\n",
      "|          0|  160|\n",
      "|          1|  146|\n",
      "|          2|  139|\n",
      "|          3|  131|\n",
      "+-----------+-----+\n",
      "\n"
     ]
    }
   ],
   "source": [
    "results.groupBy('price_range').count().sort('price_range').show()"
   ]
  },
  {
   "cell_type": "code",
   "execution_count": 25,
   "id": "61ad8b3d",
   "metadata": {},
   "outputs": [
    {
     "name": "stdout",
     "output_type": "stream",
     "text": [
      "[[142  18   0   0]\n",
      " [  7 121  18   0]\n",
      " [  0  10 116  13]\n",
      " [  0   0  16 115]]\n"
     ]
    }
   ],
   "source": [
    "\n",
    "\n",
    "from pyspark.sql.functions import col  # Import for selecting columns\n",
    "\n",
    "# Collect labels and predictions as lists\n",
    "true_labels = results.select(col('price_range')).rdd.map(lambda row: row[0]).collect()\n",
    "predicted_labels = results.select(col('prediction')).rdd.map(lambda row: row[0]).collect()\n",
    "\n",
    "# Import and use confusion matrix from scikit-learn\n",
    "from sklearn.metrics import confusion_matrix\n",
    "\n",
    "confusion_matrix = confusion_matrix(true_labels, predicted_labels)\n",
    "print(confusion_matrix)\n"
   ]
  },
  {
   "cell_type": "code",
   "execution_count": 26,
   "id": "5e073dff",
   "metadata": {},
   "outputs": [
    {
     "data": {
      "text/plain": [
       "0.8576388888888888"
      ]
     },
     "execution_count": 26,
     "metadata": {},
     "output_type": "execute_result"
    }
   ],
   "source": [
    "acc_enaluator = MulticlassClassificationEvaluator(labelCol=\"price_range\", predictionCol='prediction', metricName='accuracy')\n",
    "d_accuracy = acc_enaluator.evaluate(results)\n",
    "d_accuracy"
   ]
  },
  {
   "cell_type": "code",
   "execution_count": 27,
   "id": "9c9627e1",
   "metadata": {},
   "outputs": [
    {
     "data": {
      "text/plain": [
       "0.8589259186201477"
      ]
     },
     "execution_count": 27,
     "metadata": {},
     "output_type": "execute_result"
    }
   ],
   "source": [
    "f1_enaluator = MulticlassClassificationEvaluator(labelCol=\"price_range\", predictionCol='prediction', metricName='f1')\n",
    "d_f1 = f1_enaluator.evaluate(results)\n",
    "d_f1"
   ]
  },
  {
   "cell_type": "code",
   "execution_count": 28,
   "id": "4d5e256a",
   "metadata": {},
   "outputs": [
    {
     "data": {
      "text/plain": [
       "0.9530201342281879"
      ]
     },
     "execution_count": 28,
     "metadata": {},
     "output_type": "execute_result"
    }
   ],
   "source": [
    "precision_enaluator = MulticlassClassificationEvaluator(labelCol=\"price_range\", predictionCol='prediction', metricName='precisionByLabel')\n",
    "d_precision = precision_enaluator.evaluate(results)\n",
    "d_precision"
   ]
  },
  {
   "cell_type": "code",
   "execution_count": 29,
   "id": "4de651fe",
   "metadata": {},
   "outputs": [
    {
     "data": {
      "text/plain": [
       "0.8875"
      ]
     },
     "execution_count": 29,
     "metadata": {},
     "output_type": "execute_result"
    }
   ],
   "source": [
    "recall_enaluator = MulticlassClassificationEvaluator(labelCol=\"price_range\", predictionCol='prediction', metricName='recallByLabel')\n",
    "recall_precision = recall_enaluator.evaluate(results)\n",
    "recall_precision"
   ]
  },
  {
   "cell_type": "code",
   "execution_count": 30,
   "id": "2534dd3a",
   "metadata": {},
   "outputs": [],
   "source": [
    "def sanitycheckRam(df, columnName):\n",
    "    return df.withColumn('sanity', F.when(F.col(columnName)<1000,0).when(F.col(columnName)<2000,1).when(F.col(columnName)<3000,2).otherwise(3))"
   ]
  },
  {
   "cell_type": "code",
   "execution_count": 31,
   "id": "680b1b61",
   "metadata": {},
   "outputs": [
    {
     "name": "stdout",
     "output_type": "stream",
     "text": [
      "+----------+------------------+------+\n",
      "|prediction|            ramAvg|sanity|\n",
      "+----------+------------------+------+\n",
      "|       0.0|  783.738255033557|     0|\n",
      "|       1.0|1605.2281879194632|     1|\n",
      "|       2.0|2575.9533333333334|     2|\n",
      "|       3.0|      3492.7421875|     3|\n",
      "+----------+------------------+------+\n",
      "\n"
     ]
    }
   ],
   "source": [
    "sanitycheckRam(results.groupBy('prediction').agg(F.avg('ram').alias('ramAvg')),'ramAvg').sort('prediction').show()"
   ]
  },
  {
   "cell_type": "markdown",
   "id": "652616e5",
   "metadata": {},
   "source": [
    "According to the sanity check function defined in the program, if ram is below 1000, it should be in class O, if it is between 1000 and 2000 it should be in class 1, between 2000 and 3000, it should be in class 2 otherwise class 3. If we pass the avgram value of our predictions to the sanity check function, we can see that we are getting accurate results, as the sanity value matches our prediction which proves the validity of our model."
   ]
  },
  {
   "cell_type": "markdown",
   "id": "a91d2313",
   "metadata": {},
   "source": [
    "# building random forest model"
   ]
  },
  {
   "cell_type": "code",
   "execution_count": 32,
   "id": "7a0a1088",
   "metadata": {},
   "outputs": [],
   "source": [
    "rl = RandomForestClassifier(featuresCol = 'features', labelCol='price_range')\n",
    "pipe = Pipeline(stages=[network_indexer, assembler, rl])\n",
    "fit_model = pipe.fit(train_df)\n",
    "results2 = fit_model.transform(valid_df)"
   ]
  },
  {
   "cell_type": "code",
   "execution_count": 33,
   "id": "953776ac",
   "metadata": {},
   "outputs": [
    {
     "name": "stdout",
     "output_type": "stream",
     "text": [
      "+-----------+----------+\n",
      "|price_range|prediction|\n",
      "+-----------+----------+\n",
      "|          1|       2.0|\n",
      "|          1|       2.0|\n",
      "|          0|       0.0|\n",
      "|          2|       3.0|\n",
      "|          0|       1.0|\n",
      "|          2|       2.0|\n",
      "|          0|       0.0|\n",
      "|          0|       0.0|\n",
      "|          3|       3.0|\n",
      "|          1|       2.0|\n",
      "|          1|       2.0|\n",
      "|          0|       1.0|\n",
      "|          2|       2.0|\n",
      "|          0|       0.0|\n",
      "|          1|       1.0|\n",
      "|          1|       1.0|\n",
      "|          3|       2.0|\n",
      "|          0|       0.0|\n",
      "|          0|       0.0|\n",
      "|          1|       2.0|\n",
      "+-----------+----------+\n",
      "only showing top 20 rows\n",
      "\n"
     ]
    }
   ],
   "source": [
    "results2.select(['price_range','prediction']).show()"
   ]
  },
  {
   "cell_type": "code",
   "execution_count": 34,
   "id": "3e41115c",
   "metadata": {},
   "outputs": [
    {
     "name": "stdout",
     "output_type": "stream",
     "text": [
      "+----------+-----+\n",
      "|prediction|count|\n",
      "+----------+-----+\n",
      "|       0.0|  159|\n",
      "|       1.0|  153|\n",
      "|       2.0|  132|\n",
      "|       3.0|  132|\n",
      "+----------+-----+\n",
      "\n"
     ]
    }
   ],
   "source": [
    "results2.groupBy('prediction').count().sort('prediction').show()"
   ]
  },
  {
   "cell_type": "code",
   "execution_count": 35,
   "id": "df52c7fa",
   "metadata": {},
   "outputs": [
    {
     "name": "stdout",
     "output_type": "stream",
     "text": [
      "[[141  19   0   0]\n",
      " [ 18 110  18   0]\n",
      " [  0  24  97  18]\n",
      " [  0   0  17 114]]\n"
     ]
    }
   ],
   "source": [
    "from pyspark.sql.functions import col  # Import for selecting columns\n",
    "\n",
    "# Collect labels and predictions as lists\n",
    "true_labels = results2.select(col('price_range')).rdd.map(lambda row: row[0]).collect()\n",
    "predicted_labels = results2.select(col('prediction')).rdd.map(lambda row: row[0]).collect()\n",
    "\n",
    "# Import and use confusion matrix from scikit-learn\n",
    "from sklearn.metrics import confusion_matrix\n",
    "\n",
    "confusion_matrix = confusion_matrix(true_labels, predicted_labels)\n",
    "print(confusion_matrix)\n"
   ]
  },
  {
   "cell_type": "code",
   "execution_count": 36,
   "id": "80e56bd4",
   "metadata": {},
   "outputs": [
    {
     "data": {
      "text/plain": [
       "0.8020833333333334"
      ]
     },
     "execution_count": 36,
     "metadata": {},
     "output_type": "execute_result"
    }
   ],
   "source": [
    "rl_accuracy = acc_enaluator.evaluate(results2)\n",
    "rl_accuracy"
   ]
  },
  {
   "cell_type": "code",
   "execution_count": 37,
   "id": "a5a6403c",
   "metadata": {},
   "outputs": [
    {
     "data": {
      "text/plain": [
       "0.8019771361332934"
      ]
     },
     "execution_count": 37,
     "metadata": {},
     "output_type": "execute_result"
    }
   ],
   "source": [
    "rl_f1 = f1_enaluator.evaluate(results2)\n",
    "rl_f1"
   ]
  },
  {
   "cell_type": "code",
   "execution_count": 38,
   "id": "224c970f",
   "metadata": {},
   "outputs": [
    {
     "data": {
      "text/plain": [
       "0.8867924528301887"
      ]
     },
     "execution_count": 38,
     "metadata": {},
     "output_type": "execute_result"
    }
   ],
   "source": [
    "rl_precision = precision_enaluator.evaluate(results2)\n",
    "rl_precision"
   ]
  },
  {
   "cell_type": "code",
   "execution_count": 39,
   "id": "7d60877b",
   "metadata": {},
   "outputs": [
    {
     "data": {
      "text/plain": [
       "0.88125"
      ]
     },
     "execution_count": 39,
     "metadata": {},
     "output_type": "execute_result"
    }
   ],
   "source": [
    "rl_recall = recall_enaluator.evaluate(results2)\n",
    "rl_recall"
   ]
  },
  {
   "cell_type": "code",
   "execution_count": 40,
   "id": "9e0b640e",
   "metadata": {},
   "outputs": [
    {
     "name": "stdout",
     "output_type": "stream",
     "text": [
      "+----------+------------------+------+\n",
      "|prediction|            ramAvg|sanity|\n",
      "+----------+------------------+------+\n",
      "|       0.0| 768.5849056603773|     0|\n",
      "|       1.0|1683.6339869281046|     1|\n",
      "|       2.0|2678.4772727272725|     2|\n",
      "|       3.0|            3455.0|     3|\n",
      "+----------+------------------+------+\n",
      "\n"
     ]
    }
   ],
   "source": [
    "sanitycheckRam(results2.groupBy('prediction').agg(F.avg('ram').alias('ramAvg')),'ramAvg').sort('prediction').show()"
   ]
  },
  {
   "cell_type": "markdown",
   "id": "c11abfaa",
   "metadata": {},
   "source": [
    "According to the sanity check function defined in the program, if ram is below 1000, it should be in class O, if it is between 1000 and 2000 it should be in class 1, between 2000 and 3000, it should be in class 2 otherwise class 3. If we pass the avgram value of our predictions to the sanity check function, we can see that we are getting accurate results, as the sanity value matches our prediction which proves the validity of our model."
   ]
  },
  {
   "cell_type": "markdown",
   "id": "3daa228e",
   "metadata": {},
   "source": [
    "# Naive Bayes"
   ]
  },
  {
   "cell_type": "code",
   "execution_count": 41,
   "id": "e2021dde",
   "metadata": {},
   "outputs": [],
   "source": [
    "# Define the stages of the pipeline\n",
    "nb = NaiveBayes(featuresCol='features', labelCol='price_range')\n",
    "scaler = StandardScaler(inputCol='features', outputCol='scaled_features')\n",
    "normalizer = Normalizer(inputCol='scaled_features', outputCol='norm_features', p=1.0)\n",
    "\n",
    "# Assuming network_indexer and assembler are defined elsewhere in your code\n",
    "pipe = Pipeline(stages=[network_indexer, assembler, scaler, normalizer, nb])\n",
    "\n",
    "# Fit the pipeline to the training data\n",
    "fit_model = pipe.fit(train_df)\n",
    "\n",
    "# Transform the validation data\n",
    "results3 = fit_model.transform(valid_df)"
   ]
  },
  {
   "cell_type": "code",
   "execution_count": 42,
   "id": "ba4f37c9",
   "metadata": {},
   "outputs": [
    {
     "name": "stdout",
     "output_type": "stream",
     "text": [
      "+-----------+----------+\n",
      "|price_range|prediction|\n",
      "+-----------+----------+\n",
      "|          1|       3.0|\n",
      "|          1|       3.0|\n",
      "|          0|       0.0|\n",
      "|          2|       3.0|\n",
      "|          0|       3.0|\n",
      "|          2|       3.0|\n",
      "|          0|       2.0|\n",
      "|          0|       2.0|\n",
      "|          3|       1.0|\n",
      "|          1|       3.0|\n",
      "|          1|       3.0|\n",
      "|          0|       3.0|\n",
      "|          2|       3.0|\n",
      "|          0|       0.0|\n",
      "|          1|       1.0|\n",
      "|          1|       3.0|\n",
      "|          3|       1.0|\n",
      "|          0|       1.0|\n",
      "|          0|       0.0|\n",
      "|          1|       3.0|\n",
      "+-----------+----------+\n",
      "only showing top 20 rows\n",
      "\n"
     ]
    }
   ],
   "source": [
    "results3.select(['price_range','prediction']).show()"
   ]
  },
  {
   "cell_type": "code",
   "execution_count": 43,
   "id": "98b38e19",
   "metadata": {},
   "outputs": [
    {
     "name": "stdout",
     "output_type": "stream",
     "text": [
      "+----------+-----+\n",
      "|prediction|count|\n",
      "+----------+-----+\n",
      "|       0.0|  136|\n",
      "|       1.0|  108|\n",
      "|       2.0|  115|\n",
      "|       3.0|  217|\n",
      "+----------+-----+\n",
      "\n"
     ]
    }
   ],
   "source": [
    "results3.groupBy('prediction').count().sort('prediction').show()"
   ]
  },
  {
   "cell_type": "code",
   "execution_count": 44,
   "id": "252e99dd",
   "metadata": {},
   "outputs": [
    {
     "name": "stdout",
     "output_type": "stream",
     "text": [
      "[[92  7 46 15]\n",
      " [35 34 36 41]\n",
      " [ 7 24 20 88]\n",
      " [ 2 43 13 73]]\n"
     ]
    }
   ],
   "source": [
    "from pyspark.sql.functions import col  # Import for selecting columns\n",
    "\n",
    "# Collect labels and predictions as lists\n",
    "true_labels = results3.select(col('price_range')).rdd.map(lambda row: row[0]).collect()\n",
    "predicted_labels = results3.select(col('prediction')).rdd.map(lambda row: row[0]).collect()\n",
    "\n",
    "# Import and use confusion matrix from scikit-learn\n",
    "from sklearn.metrics import confusion_matrix\n",
    "\n",
    "confusion_matrix = confusion_matrix(true_labels, predicted_labels)\n",
    "print(confusion_matrix)\n"
   ]
  },
  {
   "cell_type": "code",
   "execution_count": 45,
   "id": "aae685f1",
   "metadata": {},
   "outputs": [
    {
     "data": {
      "text/plain": [
       "0.3802083333333333"
      ]
     },
     "execution_count": 45,
     "metadata": {},
     "output_type": "execute_result"
    }
   ],
   "source": [
    "nb_accuracy = acc_enaluator.evaluate(results3)\n",
    "nb_accuracy"
   ]
  },
  {
   "cell_type": "code",
   "execution_count": 46,
   "id": "ba335b44",
   "metadata": {},
   "outputs": [
    {
     "data": {
      "text/plain": [
       "0.37395070751242687"
      ]
     },
     "execution_count": 46,
     "metadata": {},
     "output_type": "execute_result"
    }
   ],
   "source": [
    "nb_f1 = f1_enaluator.evaluate(results3)\n",
    "nb_f1"
   ]
  },
  {
   "cell_type": "code",
   "execution_count": 47,
   "id": "16c86620",
   "metadata": {},
   "outputs": [
    {
     "data": {
      "text/plain": [
       "0.6764705882352942"
      ]
     },
     "execution_count": 47,
     "metadata": {},
     "output_type": "execute_result"
    }
   ],
   "source": [
    "nb_precision = precision_enaluator.evaluate(results3)\n",
    "nb_precision"
   ]
  },
  {
   "cell_type": "code",
   "execution_count": 48,
   "id": "3a738521",
   "metadata": {},
   "outputs": [
    {
     "data": {
      "text/plain": [
       "0.575"
      ]
     },
     "execution_count": 48,
     "metadata": {},
     "output_type": "execute_result"
    }
   ],
   "source": [
    "nb_recall = recall_enaluator.evaluate(results3)\n",
    "nb_recall"
   ]
  },
  {
   "cell_type": "code",
   "execution_count": 49,
   "id": "8cc0f14c",
   "metadata": {},
   "outputs": [
    {
     "name": "stdout",
     "output_type": "stream",
     "text": [
      "+----------+------------------+------+\n",
      "|prediction|            ramAvg|sanity|\n",
      "+----------+------------------+------+\n",
      "|       0.0| 768.5849056603773|     0|\n",
      "|       1.0|1683.6339869281046|     1|\n",
      "|       2.0|2678.4772727272725|     2|\n",
      "|       3.0|            3455.0|     3|\n",
      "+----------+------------------+------+\n",
      "\n"
     ]
    }
   ],
   "source": [
    "sanitycheckRam(results2.groupBy('prediction').agg(F.avg('ram').alias('ramAvg')),'ramAvg').sort('prediction').show()"
   ]
  },
  {
   "cell_type": "markdown",
   "id": "7f09c096",
   "metadata": {},
   "source": [
    "# Business Conclusion\n",
    "Based on our analysis, mobile features used in model creation are very important deciding factors while estimating the price range for the device. Based on our statistical analysis, features like battery power, clock speed, internal memory, number of cores, ram are the most important features for prediction. For any company entering the market can use this machine learning model to estimate the price range for their device based on these features. This is a very significant problem which is solved using machine learning and can be used by the industry to predict price range for any device."
   ]
  }
 ],
 "metadata": {
  "kernelspec": {
   "display_name": "Python 3 (ipykernel)",
   "language": "python",
   "name": "python3"
  },
  "language_info": {
   "codemirror_mode": {
    "name": "ipython",
    "version": 3
   },
   "file_extension": ".py",
   "mimetype": "text/x-python",
   "name": "python",
   "nbconvert_exporter": "python",
   "pygments_lexer": "ipython3",
   "version": "3.9.12"
  }
 },
 "nbformat": 4,
 "nbformat_minor": 5
}
